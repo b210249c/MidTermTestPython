{
 "cells": [
  {
   "cell_type": "code",
   "execution_count": 6,
   "id": "1b68f57e-0d8e-49d7-a5b6-b5c3f63ef8ef",
   "metadata": {},
   "outputs": [],
   "source": [
    "import random\n",
    "\n",
    "words = [\"railway\", \"toothpaste\", \"ornament\", \"mountain\", \"bedroom\", \"experience\", \"programming\"]\n",
    "\n",
    "selected_word = random.choice(words)"
   ]
  },
  {
   "cell_type": "code",
   "execution_count": 8,
   "id": "6964f855-37e9-475b-84dd-2d206dd5d65d",
   "metadata": {},
   "outputs": [
    {
     "name": "stdout",
     "output_type": "stream",
     "text": [
      "_ _ _ _ _ _ _ \n",
      "\n"
     ]
    },
    {
     "name": "stdin",
     "output_type": "stream",
     "text": [
      "Guess a letter:  a\n"
     ]
    },
    {
     "name": "stdout",
     "output_type": "stream",
     "text": [
      "_ a _ _ _ a _ \n",
      "\n"
     ]
    },
    {
     "name": "stdin",
     "output_type": "stream",
     "text": [
      "Guess a letter:  e\n"
     ]
    },
    {
     "name": "stdout",
     "output_type": "stream",
     "text": [
      "You already guessed that letter or the letter is incorrect.\n",
      "Remaining guesses: 2 \n",
      "\n"
     ]
    },
    {
     "name": "stdin",
     "output_type": "stream",
     "text": [
      "Guess a letter:  r\n"
     ]
    },
    {
     "name": "stdout",
     "output_type": "stream",
     "text": [
      "r a _ _ _ a _ \n",
      "\n"
     ]
    },
    {
     "name": "stdin",
     "output_type": "stream",
     "text": [
      "Guess a letter:  o\n"
     ]
    },
    {
     "name": "stdout",
     "output_type": "stream",
     "text": [
      "You already guessed that letter or the letter is incorrect.\n",
      "Remaining guesses: 1 \n",
      "\n"
     ]
    },
    {
     "name": "stdin",
     "output_type": "stream",
     "text": [
      "Guess a letter:  e\n"
     ]
    },
    {
     "name": "stdout",
     "output_type": "stream",
     "text": [
      "You already guessed that letter or the letter is incorrect.\n",
      "You lose! You have used all your chances.\n",
      "The correct word is: railway\n"
     ]
    }
   ],
   "source": [
    "guess_dict = {}\n",
    "string = \"\"\n",
    "guess_list = []\n",
    "guessed_letter = []\n",
    "incorrect_guess = 0\n",
    "max_guess = 3\n",
    "count = 0\n",
    "\n",
    "\n",
    "for letter in selected_word:\n",
    "    guess_list.append(letter)\n",
    "\n",
    "for index in range(len(selected_word)):\n",
    "    if index != guess_dict.keys:\n",
    "        guess_dict[index] = \"_\"\n",
    "\n",
    "for value in guess_dict.values():\n",
    "    string += value + \" \"\n",
    "\n",
    "print(string + \"\\n\")\n",
    "\n",
    "\n",
    "\n",
    "while True:\n",
    "    string = \"\"\n",
    "    guess_input = input(\"Guess a letter: \")\n",
    "\n",
    "    \n",
    "    if guess_input in guessed_letter or (guess_input not in guessed_letter and guess_input not in selected_word):\n",
    "        print(\"You already guessed that letter or the letter is incorrect.\")\n",
    "        incorrect_guess += 1\n",
    "        if incorrect_guess < max_guess:\n",
    "            print(f\"Remaining guesses: {max_guess - incorrect_guess} \\n\")\n",
    "        else:\n",
    "            print(\"You lose! You have used all your chances.\")\n",
    "            print(f\"The correct word is: {selected_word}\")\n",
    "            break\n",
    "    else:\n",
    "        guessed_letter.append(guess_input)\n",
    "        for index in range (len(guess_list)):\n",
    "            if guess_input == guess_list[index]:\n",
    "                guess_dict[index] = guess_list[index]\n",
    "                string +=  guess_dict[index] + \" \"\n",
    "                count += 1\n",
    "            else:\n",
    "                string +=  guess_dict[index] + \" \"\n",
    "        \n",
    "        print(string + \"\\n\")\n",
    "        if count == len(selected_word):\n",
    "            print(\"You guessed the word!\")\n",
    "            break\n",
    "    \n",
    "\n",
    "\n"
   ]
  },
  {
   "cell_type": "code",
   "execution_count": null,
   "id": "c048a5b9-037f-426e-a293-6b6dd68b0eb9",
   "metadata": {},
   "outputs": [],
   "source": []
  }
 ],
 "metadata": {
  "kernelspec": {
   "display_name": "Python 3 (ipykernel)",
   "language": "python",
   "name": "python3"
  },
  "language_info": {
   "codemirror_mode": {
    "name": "ipython",
    "version": 3
   },
   "file_extension": ".py",
   "mimetype": "text/x-python",
   "name": "python",
   "nbconvert_exporter": "python",
   "pygments_lexer": "ipython3",
   "version": "3.12.4"
  }
 },
 "nbformat": 4,
 "nbformat_minor": 5
}
